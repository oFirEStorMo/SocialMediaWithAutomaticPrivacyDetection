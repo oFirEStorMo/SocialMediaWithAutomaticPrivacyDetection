{
 "cells": [
  {
   "cell_type": "code",
   "execution_count": 31,
   "id": "e801b795",
   "metadata": {},
   "outputs": [
    {
     "name": "stdout",
     "output_type": "stream",
     "text": [
      "143\n"
     ]
    }
   ],
   "source": [
    "# Define the lists\n",
    "list_1 = ['aunt', 'uncle', 'brother', 'sister', 'cousin', 'nephew', 'niece', 'daughter', 'son', 'mother', 'father', 'grandmother', 'grandfather', 'great-grandmother', 'great-grandfather', 'stepmother', 'stepfather', 'stepdaughter', 'stepson', 'stepsister', 'stepbrother', 'half-sister', 'half-brother', 'godmother', 'godfather', 'best friend', 'close friend', 'roommate', 'flatmate', 'classmate', 'colleague', 'teammate', 'neighbor', 'acquaintance', 'boyfriend', 'girlfriend', 'partner', 'fiancé', 'spouse', 'ex-spouse']\n",
    "list_2 = ['boss', 'supervisor', 'manager', 'director', 'executive', 'administrator', 'employee', 'staff', 'team member', 'colleague', 'coworker', 'partner', 'client', 'customer', 'vendor', 'supplier', 'distributor', 'manufacturer', 'wholesaler', 'retailer', 'investor', 'shareholder', 'stakeholder', 'board member', 'advisor', 'consultant', 'contractor', 'freelancer', 'professional contact', 'mentor', 'coach', 'trainer', 'instructor', 'teacher', 'professor', 'scholar', 'researcher', 'scientist', 'engineer', 'programmer', 'developer', 'designer', 'analyst', 'strategist', 'planner', 'project manager', 'product manager', 'account manager', 'sales representative', 'publicist', 'marketer', 'advertiser', 'copywriter', 'journalist', 'reporter', 'editor', 'publisher', 'agent', 'lawyer', 'attorney', 'judge', 'accountant', 'auditor', 'tax specialist', 'financial advisor', 'insurance agent', 'real estate agent']\n",
    "list_3 = ['teacher', 'professor', 'instructor', 'coach', 'mentor', 'tutor', 'counselor', 'therapist', 'doctor', 'nurse', 'caregiver', 'social worker', 'minister', 'rabbi', 'imam', 'priest', 'clergy', 'therapist', 'psychiatrist', 'psychologist', 'dentist', 'optometrist', 'veterinarian', 'personal trainer', 'yoga instructor', 'pilates instructor', 'dance instructor', 'music teacher', 'art teacher', 'language tutor', 'life coach', 'career counselor', 'financial advisor', 'nutritionist', 'dietitian', 'chef']\n",
    "list_4 = [0,0,0,0,0,0,0,0,0,0,0,0,0,0,0,0,0,0,0,0,0,0,0,0,0,0,0,0,0,0,0,0,0,0,0,0,0,0,0,0,1,1,1,1,1,1,1,1,1,1,1,1,1,1,1,1,1,1,1,1,1,1,1,1,1,1,1,1,1,1,1,1,1,1,1,1,1,1,1,1,1,1,1,1,1,1,1,1,1,1,1,1,1,1,1,1,1,1,1,1,1,1,1,1,1,1,1,0,0,0,0,0,0,0,0,0,0,0,0,0,0,0,0,0,0,0,0,0,0,0,0,0,0,0,0,0,0,0,0,0,0,0,0]\n",
    "list_5 = ['aunt', 'uncle', 'brother', 'sister', 'cousin', 'nephew', 'niece', 'daughter', 'son', 'mother', 'father', 'grandmother', 'grandfather', 'great-grandmother', 'great-grandfather', 'stepmother', 'stepfather', 'stepdaughter', 'stepson', 'stepsister', 'stepbrother', 'half-sister', 'half-brother', 'godmother', 'godfather', 'best friend', 'close friend', 'roommate', 'flatmate', 'classmate', 'colleague', 'teammate', 'neighbor', 'acquaintance', 'boyfriend', 'girlfriend', 'partner', 'fiancé', 'spouse', 'ex-spouse', 'boss', 'supervisor', 'manager', 'director', 'executive', 'administrator', 'employee', 'staff', 'team member', 'colleague', 'coworker', 'partner', 'client', 'customer', 'vendor', 'supplier', 'distributor', 'manufacturer', 'wholesaler', 'retailer', 'investor', 'shareholder', 'stakeholder', 'board member', 'advisor', 'consultant', 'contractor', 'freelancer', 'professional contact', 'mentor', 'coach', 'trainer', 'instructor', 'teacher', 'professor', 'scholar', 'researcher', 'scientist', 'engineer', 'programmer', 'developer', 'designer', 'analyst', 'strategist', 'planner', 'project manager', 'product manager', 'account manager', 'sales representative', 'publicist', 'marketer', 'advertiser', 'copywriter', 'journalist', 'reporter', 'editor', 'publisher', 'agent', 'lawyer', 'attorney', 'judge', 'accountant', 'auditor', 'tax specialist', 'financial advisor', 'insurance agent', 'real estate agent', 'teacher', 'professor', 'instructor', 'coach', 'mentor', 'tutor', 'counselor', 'therapist', 'doctor', 'nurse', 'caregiver', 'social worker', 'minister', 'rabbi', 'imam', 'priest', 'clergy', 'therapist', 'psychiatrist', 'psychologist', 'dentist', 'optometrist', 'veterinarian', 'personal trainer', 'yoga instructor', 'pilates instructor', 'dance instructor', 'music teacher', 'art teacher', 'language tutor', 'life coach', 'career counselor', 'financial advisor', 'nutritionist', 'dietitian', 'chef']\n",
    "# Create the dictionary\n",
    "cnt1 = 0;\n",
    "labels = []\n",
    "for item in list_1:\n",
    "    labels.append((item, 0))\n",
    "\n",
    "for item in list_2:\n",
    "    labels.append((item, 1))\n",
    "\n",
    "for item in list_3:\n",
    "    labels.append((item, 0))\n",
    "\n",
    "# Print the labels\n",
    "#for item, label in labels:\n",
    "#    print(f\"{label}\")\n",
    "\n",
    "cnt4 = 0;\n",
    "for item in list_4:\n",
    "    cnt4 += 1;\n",
    "    \n",
    "print(cnt4);"
   ]
  },
  {
   "cell_type": "markdown",
   "id": "74b22a69",
   "metadata": {},
   "source": [
    "# Indexing the column"
   ]
  },
  {
   "cell_type": "code",
   "execution_count": 33,
   "id": "466d0562",
   "metadata": {},
   "outputs": [],
   "source": [
    "import pandas as pd"
   ]
  },
  {
   "cell_type": "code",
   "execution_count": 34,
   "id": "7581cf2f",
   "metadata": {},
   "outputs": [],
   "source": [
    "columns = ['aunt', 'uncle', 'brother', 'sister', 'cousin', 'nephew', 'niece', 'daughter', 'son', 'mother', 'father', 'grandmother', 'grandfather', 'great-grandmother', 'great-grandfather', 'stepmother', 'stepfather', 'stepdaughter', 'stepson', 'stepsister', 'stepbrother', 'half-sister', 'half-brother', 'godmother', 'godfather', 'best friend', 'close friend', 'roommate', 'flatmate', 'classmate', 'colleague', 'teammate', 'neighbor', 'acquaintance', 'boyfriend', 'girlfriend', 'partner', 'fiancé', 'spouse', 'ex-spouse', 'boss', 'supervisor', 'manager', 'director', 'executive', 'administrator', 'employee', 'staff', 'team member', 'colleague', 'coworker', 'partner', 'client', 'customer', 'vendor', 'supplier', 'distributor', 'manufacturer', 'wholesaler', 'retailer', 'investor', 'shareholder', 'stakeholder', 'board member', 'advisor', 'consultant', 'contractor', 'freelancer', 'professional contact', 'mentor', 'coach', 'trainer', 'instructor', 'teacher', 'professor', 'scholar', 'researcher', 'scientist', 'engineer', 'programmer', 'developer', 'designer', 'analyst', 'strategist', 'planner', 'project manager', 'product manager', 'account manager', 'sales representative', 'publicist', 'marketer', 'advertiser', 'copywriter', 'journalist', 'reporter', 'editor', 'publisher', 'agent', 'lawyer', 'attorney', 'judge', 'accountant', 'auditor', 'tax specialist', 'financial advisor', 'insurance agent', 'real estate agent', 'teacher', 'professor', 'instructor', 'coach', 'mentor', 'tutor', 'counselor', 'therapist', 'doctor', 'nurse', 'caregiver', 'social worker', 'minister', 'rabbi', 'imam', 'priest', 'clergy', 'therapist', 'psychiatrist', 'psychologist', 'dentist', 'optometrist', 'veterinarian', 'personal trainer', 'yoga instructor', 'pilates instructor', 'dance instructor', 'music teacher', 'art teacher', 'language tutor', 'life coach', 'career counselor', 'financial advisor', 'nutritionist', 'dietitian', 'chef']\n",
    "index_values = [0,0,0,0,0,0,0,0,0,0,0,0,0,0,0,0,0,0,0,0,0,0,0,0,0,0,0,0,0,0,0,0,0,0,0,0,0,0,0,0,1,1,1,1,1,1,1,1,1,1,1,1,1,1,1,1,1,1,1,1,1,1,1,1,1,1,1,1,1,1,1,1,1,1,1,1,1,1,1,1,1,1,1,1,1,1,1,1,1,1,1,1,1,1,1,1,1,1,1,1,1,1,1,1,1,1,1,0,0,0,0,0,0,0,0,0,0,0,0,0,0,0,0,0,0,0,0,0,0,0,0,0,0,0,0,0,0,0,0,0,0,0,0]\n",
    "data = pd.DataFrame([index_values], columns=columns)\n",
    "data.to_csv('indexed_columns.csv', index=False)"
   ]
  },
  {
   "cell_type": "code",
   "execution_count": null,
   "id": "1303c8ec",
   "metadata": {},
   "outputs": [],
   "source": []
  },
  {
   "cell_type": "code",
   "execution_count": null,
   "id": "9daa7b9a",
   "metadata": {},
   "outputs": [],
   "source": []
  }
 ],
 "metadata": {
  "kernelspec": {
   "display_name": "Python 3 (ipykernel)",
   "language": "python",
   "name": "python3"
  },
  "language_info": {
   "codemirror_mode": {
    "name": "ipython",
    "version": 3
   },
   "file_extension": ".py",
   "mimetype": "text/x-python",
   "name": "python",
   "nbconvert_exporter": "python",
   "pygments_lexer": "ipython3",
   "version": "3.10.9"
  }
 },
 "nbformat": 4,
 "nbformat_minor": 5
}
