{
 "cells": [
  {
   "cell_type": "markdown",
   "id": "d6f213a3",
   "metadata": {},
   "source": [
    "# Import libraries"
   ]
  },
  {
   "cell_type": "code",
   "execution_count": 74,
   "id": "82fc33a0",
   "metadata": {},
   "outputs": [
    {
     "name": "stderr",
     "output_type": "stream",
     "text": [
      "[nltk_data] Downloading package stopwords to\n",
      "[nltk_data]     C:\\Users\\arman\\AppData\\Roaming\\nltk_data...\n",
      "[nltk_data]   Package stopwords is already up-to-date!\n",
      "[nltk_data] Downloading package wordnet to\n",
      "[nltk_data]     C:\\Users\\arman\\AppData\\Roaming\\nltk_data...\n",
      "[nltk_data]   Package wordnet is already up-to-date!\n",
      "[nltk_data] Downloading package averaged_perceptron_tagger to\n",
      "[nltk_data]     C:\\Users\\arman\\AppData\\Roaming\\nltk_data...\n",
      "[nltk_data]   Package averaged_perceptron_tagger is already up-to-\n",
      "[nltk_data]       date!\n"
     ]
    },
    {
     "data": {
      "text/plain": [
       "True"
      ]
     },
     "execution_count": 74,
     "metadata": {},
     "output_type": "execute_result"
    }
   ],
   "source": [
    "import pandas as pd\n",
    "import nltk\n",
    "from nltk.corpus import stopwords, wordnet\n",
    "from nltk.stem import PorterStemmer, WordNetLemmatizer\n",
    "\n",
    "nltk.download('stopwords')\n",
    "nltk.download('wordnet')\n",
    "nltk.download('averaged_perceptron_tagger')"
   ]
  },
  {
   "cell_type": "markdown",
   "id": "99fa526d",
   "metadata": {},
   "source": [
    "# Load CSV file into a pandas dataframe"
   ]
  },
  {
   "cell_type": "code",
   "execution_count": 75,
   "id": "4fc4366e",
   "metadata": {
    "scrolled": true
   },
   "outputs": [],
   "source": [
    "base_path = \"C:/Users/arman/OneDrive/Desktop/Automatic-Privacy-Detection/Data/\"\n",
    "\n",
    "df = pd.read_csv(base_path + 'train_set.csv')"
   ]
  },
  {
   "cell_type": "markdown",
   "id": "a301fe59",
   "metadata": {},
   "source": [
    "# Define a function to tokenize and remove stopwords from a sentence"
   ]
  },
  {
   "cell_type": "code",
   "execution_count": 76,
   "id": "eb5c92cc",
   "metadata": {},
   "outputs": [],
   "source": [
    "def preprocess_sentence(sentence):\n",
    "    # tokenize the sentence\n",
    "    tokens = nltk.word_tokenize(sentence)\n",
    "    \n",
    "    # remove stop words\n",
    "    stop_words = set(stopwords.words('english'))\n",
    "    filtered_tokens = [token for token in tokens if token.lower() not in stop_words]\n",
    "    \n",
    "    # stem the remaining tokens\n",
    "    stemmer = PorterStemmer()\n",
    "    stemmed_tokens = [stemmer.stem(token) for token in filtered_tokens]\n",
    "    \n",
    "    # lemmatize the stemmed tokens\n",
    "    lemmatizer = WordNetLemmatizer()\n",
    "    lemmatized_tokens = []\n",
    "    for token in stemmed_tokens:\n",
    "        pos_tag = nltk.pos_tag([token])[0][1]\n",
    "        if pos_tag.startswith('J'):\n",
    "            pos = wordnet.ADJ\n",
    "        elif pos_tag.startswith('V'):\n",
    "            pos = wordnet.VERB\n",
    "        elif pos_tag.startswith('N'):\n",
    "            pos = wordnet.NOUN\n",
    "        elif pos_tag.startswith('R'):\n",
    "            pos = wordnet.ADV\n",
    "        else:\n",
    "            pos = wordnet.NOUN\n",
    "        lemmatized_token = lemmatizer.lemmatize(token, pos=pos)\n",
    "        lemmatized_tokens.append(lemmatized_token)\n",
    "    return lemmatized_tokens"
   ]
  },
  {
   "cell_type": "markdown",
   "id": "f6fca2ae",
   "metadata": {},
   "source": [
    "# Apply the preprocess_sentence function to the 'text' column of the dataframe"
   ]
  },
  {
   "cell_type": "code",
   "execution_count": 78,
   "id": "60583c49",
   "metadata": {
    "scrolled": false
   },
   "outputs": [],
   "source": [
    "df['tokenized_text'] = df['text'].apply(nltk.word_tokenize)\n",
    "df['stopwords_text'] = df['tokenized_text'].apply(lambda x: [word for word in x if word.lower() not in stopwords.words('english')])\n",
    "df['stemmed_text'] = df['text'].apply(preprocess_sentence)\n",
    "df['processed_sentences'] = df['text'].apply(preprocess_sentence)"
   ]
  },
  {
   "cell_type": "markdown",
   "id": "33c80092",
   "metadata": {},
   "source": [
    "# Write the updated dataframe to a new CSV file"
   ]
  },
  {
   "cell_type": "code",
   "execution_count": 80,
   "id": "070d2236",
   "metadata": {},
   "outputs": [],
   "source": [
    "base_path = \"C:/Users/arman/OneDrive/Desktop/Automatic-Privacy-Detection/Data/\"\n",
    "df.to_csv(base_path + 'processed_text.csv', index = False)"
   ]
  },
  {
   "cell_type": "code",
   "execution_count": null,
   "id": "274b89a6",
   "metadata": {},
   "outputs": [],
   "source": []
  }
 ],
 "metadata": {
  "kernelspec": {
   "display_name": "Python 3 (ipykernel)",
   "language": "python",
   "name": "python3"
  },
  "language_info": {
   "codemirror_mode": {
    "name": "ipython",
    "version": 3
   },
   "file_extension": ".py",
   "mimetype": "text/x-python",
   "name": "python",
   "nbconvert_exporter": "python",
   "pygments_lexer": "ipython3",
   "version": "3.10.9"
  }
 },
 "nbformat": 4,
 "nbformat_minor": 5
}
