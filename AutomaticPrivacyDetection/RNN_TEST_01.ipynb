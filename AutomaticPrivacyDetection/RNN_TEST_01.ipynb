{
  "cells": [
    {
      "cell_type": "markdown",
      "id": "df4df607",
      "metadata": {
        "id": "df4df607"
      },
      "source": [
        "# Import libraries"
      ]
    },
    {
      "cell_type": "code",
      "execution_count": 12,
      "id": "fd0e790f",
      "metadata": {
        "id": "fd0e790f"
      },
      "outputs": [],
      "source": [
        "import pandas as pd\n",
        "import numpy as np\n",
        "import matplotlib.pyplot as plt\n",
        "from keras.models import Sequential\n",
        "from keras.layers import Dense, LSTM, Embedding\n",
        "from keras.preprocessing.text import Tokenizer\n",
        "from keras.utils import pad_sequences"
      ]
    },
    {
      "cell_type": "markdown",
      "id": "c0a7bf62",
      "metadata": {
        "id": "c0a7bf62"
      },
      "source": [
        "# Load training and testing datasets"
      ]
    },
    {
      "cell_type": "code",
      "execution_count": 13,
      "id": "408a201c",
      "metadata": {
        "id": "408a201c"
      },
      "outputs": [],
      "source": [
        "base_path = \"/content/\"\n",
        "\n",
        "train_df = pd.read_csv(base_path+'train_set.csv')\n",
        "test_df = pd.read_csv(base_path+'test_set.csv')"
      ]
    },
    {
      "cell_type": "markdown",
      "id": "b6701118",
      "metadata": {
        "id": "b6701118"
      },
      "source": [
        "# Prepare the data\n"
      ]
    },
    {
      "cell_type": "code",
      "execution_count": 14,
      "id": "2d6889e3",
      "metadata": {
        "id": "2d6889e3"
      },
      "outputs": [],
      "source": [
        "max_features = 2000\n",
        "max_len = 100\n",
        "\n",
        "tokenizer = Tokenizer(num_words=max_features)\n",
        "tokenizer.fit_on_texts(train_df['text'].values)\n",
        "\n",
        "train_sequences = tokenizer.texts_to_sequences(train_df['text'].values)\n",
        "train_data = pad_sequences(train_sequences, maxlen=max_len)\n",
        "\n",
        "test_sequences = tokenizer.texts_to_sequences(test_df['text'].values)\n",
        "test_data = pad_sequences(test_sequences, maxlen=max_len)\n",
        "\n",
        "train_labels = train_df['class'].values\n",
        "test_labels = test_df['class'].values"
      ]
    },
    {
      "cell_type": "markdown",
      "id": "92834ddc",
      "metadata": {
        "id": "92834ddc"
      },
      "source": [
        "# Define the model"
      ]
    },
    {
      "cell_type": "code",
      "execution_count": 15,
      "id": "14574808",
      "metadata": {
        "id": "14574808"
      },
      "outputs": [],
      "source": [
        "model = Sequential()\n",
        "model.add(Embedding(max_features, 128, input_length=max_len))\n",
        "model.add(LSTM(128, dropout=0.2, recurrent_dropout=0.2))\n",
        "model.add(Dense(1, activation='sigmoid'))\n",
        "\n",
        "model.compile(loss='binary_crossentropy', optimizer='adam', metrics=['accuracy'])\n"
      ]
    },
    {
      "cell_type": "markdown",
      "id": "7959013a",
      "metadata": {
        "id": "7959013a"
      },
      "source": [
        "# Train the model"
      ]
    },
    {
      "cell_type": "code",
      "execution_count": 16,
      "id": "f3307afc",
      "metadata": {
        "colab": {
          "base_uri": "https://localhost:8080/"
        },
        "id": "f3307afc",
        "outputId": "176585e4-b458-4a77-822e-ed6d7da91b3e"
      },
      "outputs": [
        {
          "output_type": "stream",
          "name": "stdout",
          "text": [
            "Epoch 1/20\n",
            "157/157 [==============================] - 81s 488ms/step - loss: 0.6342 - accuracy: 0.6421 - val_loss: 0.6199 - val_accuracy: 0.6636\n",
            "Epoch 2/20\n",
            "157/157 [==============================] - 75s 475ms/step - loss: 0.5852 - accuracy: 0.6901 - val_loss: 0.6203 - val_accuracy: 0.6640\n",
            "Epoch 3/20\n",
            "157/157 [==============================] - 75s 478ms/step - loss: 0.5507 - accuracy: 0.7158 - val_loss: 0.6443 - val_accuracy: 0.6456\n",
            "Epoch 4/20\n",
            "157/157 [==============================] - 76s 485ms/step - loss: 0.5173 - accuracy: 0.7377 - val_loss: 0.6760 - val_accuracy: 0.6380\n",
            "Epoch 5/20\n",
            "157/157 [==============================] - 75s 476ms/step - loss: 0.4874 - accuracy: 0.7614 - val_loss: 0.7065 - val_accuracy: 0.6215\n",
            "Epoch 6/20\n",
            "157/157 [==============================] - 77s 489ms/step - loss: 0.4604 - accuracy: 0.7725 - val_loss: 0.7453 - val_accuracy: 0.6111\n",
            "Epoch 7/20\n",
            "157/157 [==============================] - 76s 482ms/step - loss: 0.4286 - accuracy: 0.7932 - val_loss: 0.8038 - val_accuracy: 0.6023\n",
            "Epoch 8/20\n",
            "157/157 [==============================] - 73s 464ms/step - loss: 0.4006 - accuracy: 0.8068 - val_loss: 0.8855 - val_accuracy: 0.6079\n",
            "Epoch 9/20\n",
            "157/157 [==============================] - 76s 481ms/step - loss: 0.3750 - accuracy: 0.8205 - val_loss: 0.9196 - val_accuracy: 0.6087\n",
            "Epoch 10/20\n",
            "157/157 [==============================] - 74s 474ms/step - loss: 0.3480 - accuracy: 0.8368 - val_loss: 0.9868 - val_accuracy: 0.6111\n",
            "Epoch 11/20\n",
            "157/157 [==============================] - 75s 475ms/step - loss: 0.3214 - accuracy: 0.8489 - val_loss: 1.1005 - val_accuracy: 0.5975\n",
            "Epoch 12/20\n",
            "157/157 [==============================] - 74s 467ms/step - loss: 0.3047 - accuracy: 0.8582 - val_loss: 1.1399 - val_accuracy: 0.5959\n",
            "Epoch 13/20\n",
            "157/157 [==============================] - 74s 471ms/step - loss: 0.2813 - accuracy: 0.8698 - val_loss: 1.1843 - val_accuracy: 0.6035\n",
            "Epoch 14/20\n",
            "157/157 [==============================] - 77s 488ms/step - loss: 0.2705 - accuracy: 0.8741 - val_loss: 1.2637 - val_accuracy: 0.6031\n",
            "Epoch 15/20\n",
            "157/157 [==============================] - 73s 463ms/step - loss: 0.2479 - accuracy: 0.8858 - val_loss: 1.3871 - val_accuracy: 0.5999\n",
            "Epoch 16/20\n",
            "157/157 [==============================] - 76s 480ms/step - loss: 0.2548 - accuracy: 0.8878 - val_loss: 1.3456 - val_accuracy: 0.5819\n",
            "Epoch 17/20\n",
            "157/157 [==============================] - 76s 487ms/step - loss: 0.2370 - accuracy: 0.8938 - val_loss: 1.4573 - val_accuracy: 0.5987\n",
            "Epoch 18/20\n",
            "157/157 [==============================] - 74s 473ms/step - loss: 0.2021 - accuracy: 0.9076 - val_loss: 1.6112 - val_accuracy: 0.5971\n",
            "Epoch 19/20\n",
            "157/157 [==============================] - 75s 477ms/step - loss: 0.1952 - accuracy: 0.9104 - val_loss: 1.7348 - val_accuracy: 0.5887\n",
            "Epoch 20/20\n",
            "157/157 [==============================] - 75s 475ms/step - loss: 0.1860 - accuracy: 0.9148 - val_loss: 1.7966 - val_accuracy: 0.5855\n"
          ]
        }
      ],
      "source": [
        "history = model.fit(train_data, train_labels, validation_split=0.2, epochs=20, batch_size=64)\n"
      ]
    },
    {
      "cell_type": "markdown",
      "source": [
        "# Plot the graph of epoch vs loss\n"
      ],
      "metadata": {
        "id": "-cChR-7ToONb"
      },
      "id": "-cChR-7ToONb"
    },
    {
      "cell_type": "code",
      "source": [
        "plt.plot(history.history['loss'])\n",
        "plt.plot(history.history['val_loss'])\n",
        "plt.title('Model loss')\n",
        "plt.ylabel('Loss')\n",
        "plt.xlabel('Epoch')\n",
        "plt.legend(['Train', 'Validation'], loc='upper right')\n",
        "plt.show()"
      ],
      "metadata": {
        "colab": {
          "base_uri": "https://localhost:8080/",
          "height": 472
        },
        "id": "3PapLVPSoVzM",
        "outputId": "04e13686-a40f-4a0c-889a-e71e40ca254d"
      },
      "id": "3PapLVPSoVzM",
      "execution_count": 17,
      "outputs": [
        {
          "output_type": "display_data",
          "data": {
            "text/plain": [
              "<Figure size 640x480 with 1 Axes>"
            ],
            "image/png": "[encoded data removed]"
          },
          "metadata": {}
        }
      ]
    },
    {
      "cell_type": "markdown",
      "id": "a0dd045d",
      "metadata": {
        "id": "a0dd045d"
      },
      "source": [
        "# Evaluate the model on the test data"
      ]
    },
    {
      "cell_type": "code",
      "execution_count": 18,
      "id": "02a5cf16",
      "metadata": {
        "colab": {
          "base_uri": "https://localhost:8080/"
        },
        "id": "02a5cf16",
        "outputId": "0de2ccfb-21d5-4f37-9324-ee2eacf832b5"
      },
      "outputs": [
        {
          "output_type": "stream",
          "name": "stdout",
          "text": [
            "77/77 [==============================] - 6s 79ms/step - loss: 1.1149 - accuracy: 0.7148\n",
            "Test score: 1.114925503730774\n",
            "Test accuracy: 0.7148140668869019\n"
          ]
        }
      ],
      "source": [
        "score, acc = model.evaluate(test_data, test_labels, batch_size=64)\n",
        "\n",
        "print('Test score:', score)\n",
        "print('Test accuracy:', acc)"
      ]
    },
    {
      "cell_type": "markdown",
      "id": "8716e467",
      "metadata": {
        "id": "8716e467"
      },
      "source": [
        "# Save the model"
      ]
    },
    {
      "cell_type": "code",
      "execution_count": 19,
      "id": "d5e65616",
      "metadata": {
        "id": "d5e65616"
      },
      "outputs": [],
      "source": [
        "model.save(base_path+'rnn_test_00.h5')"
      ]
    },
    {
      "cell_type": "code",
      "execution_count": 19,
      "id": "8a0e4f12",
      "metadata": {
        "id": "8a0e4f12"
      },
      "outputs": [],
      "source": []
    }
  ],
  "metadata": {
    "kernelspec": {
      "display_name": "Python 3 (ipykernel)",
      "language": "python",
      "name": "python3"
    },
    "language_info": {
      "codemirror_mode": {
        "name": "ipython",
        "version": 3
      },
      "file_extension": ".py",
      "mimetype": "text/x-python",
      "name": "python",
      "nbconvert_exporter": "python",
      "pygments_lexer": "ipython3",
      "version": "3.9.16"
    },
    "colab": {
      "provenance": []
    },
    "accelerator": "GPU",
    "gpuClass": "standard"
  },
  "nbformat": 4,
  "nbformat_minor": 5
}