{
 "cells": [
  {
   "cell_type": "markdown",
   "id": "df4df607",
   "metadata": {},
   "source": [
    "# Import libraries"
   ]
  },
  {
   "cell_type": "code",
   "execution_count": 2,
   "id": "fd0e790f",
   "metadata": {},
   "outputs": [],
   "source": [
    "import pandas as pd\n",
    "import numpy as np\n",
    "from keras.models import Sequential\n",
    "from keras.layers import Dense, LSTM, Embedding\n",
    "from keras.preprocessing.text import Tokenizer\n",
    "from keras_preprocessing.sequence import pad_sequences"
   ]
  },
  {
   "cell_type": "markdown",
   "id": "c0a7bf62",
   "metadata": {},
   "source": [
    "# Load training and testing datasets"
   ]
  },
  {
   "cell_type": "code",
   "execution_count": 4,
   "id": "408a201c",
   "metadata": {},
   "outputs": [],
   "source": [
    "base_path = \"C:/Users/ASUS/Desktop/Automatic-Privacy-Detection/data/\"\n",
    "\n",
    "train_df = pd.read_csv(base_path+'train_set.csv')\n",
    "test_df = pd.read_csv(base_path+'test_set.csv')"
   ]
  },
  {
   "cell_type": "markdown",
   "id": "b6701118",
   "metadata": {},
   "source": [
    "# Prepare the data\n"
   ]
  },
  {
   "cell_type": "code",
   "execution_count": 5,
   "id": "2d6889e3",
   "metadata": {},
   "outputs": [],
   "source": [
    "max_features = 2000\n",
    "max_len = 100\n",
    "\n",
    "tokenizer = Tokenizer(num_words=max_features)\n",
    "tokenizer.fit_on_texts(train_df['text'].values)\n",
    "\n",
    "train_sequences = tokenizer.texts_to_sequences(train_df['text'].values)\n",
    "train_data = pad_sequences(train_sequences, maxlen=max_len)\n",
    "\n",
    "test_sequences = tokenizer.texts_to_sequences(test_df['text'].values)\n",
    "test_data = pad_sequences(test_sequences, maxlen=max_len)\n",
    "\n",
    "train_labels = train_df['class'].values\n",
    "test_labels = test_df['class'].values"
   ]
  },
  {
   "cell_type": "markdown",
   "id": "92834ddc",
   "metadata": {},
   "source": [
    "# Define the model"
   ]
  },
  {
   "cell_type": "code",
   "execution_count": 6,
   "id": "14574808",
   "metadata": {},
   "outputs": [
    {
     "name": "stdout",
     "output_type": "stream",
     "text": [
      "WARNING:tensorflow:Layer lstm will not use cuDNN kernels since it doesn't meet the criteria. It will use a generic GPU kernel as fallback when running on GPU.\n"
     ]
    }
   ],
   "source": [
    "model = Sequential()\n",
    "model.add(Embedding(max_features, 128, input_length=max_len))\n",
    "model.add(LSTM(128, dropout=0.2, recurrent_dropout=0.2))\n",
    "model.add(Dense(1, activation='sigmoid'))\n",
    "\n",
    "model.compile(loss='binary_crossentropy', optimizer='adam', metrics=['accuracy'])\n"
   ]
  },
  {
   "cell_type": "markdown",
   "id": "7959013a",
   "metadata": {},
   "source": [
    "# Train the model"
   ]
  },
  {
   "cell_type": "code",
   "execution_count": 7,
   "id": "f3307afc",
   "metadata": {},
   "outputs": [
    {
     "name": "stdout",
     "output_type": "stream",
     "text": [
      "Epoch 1/5\n",
      "157/157 [==============================] - 117s 726ms/step - loss: 0.6343 - accuracy: 0.6402 - val_loss: 0.6238 - val_accuracy: 0.6488\n",
      "Epoch 2/5\n",
      "157/157 [==============================] - 115s 730ms/step - loss: 0.5874 - accuracy: 0.6836 - val_loss: 0.6221 - val_accuracy: 0.6492\n",
      "Epoch 3/5\n",
      "157/157 [==============================] - 114s 725ms/step - loss: 0.5563 - accuracy: 0.7103 - val_loss: 0.6389 - val_accuracy: 0.6428\n",
      "Epoch 4/5\n",
      "157/157 [==============================] - 114s 723ms/step - loss: 0.5204 - accuracy: 0.7387 - val_loss: 0.6738 - val_accuracy: 0.6408\n",
      "Epoch 5/5\n",
      "157/157 [==============================] - 112s 717ms/step - loss: 0.4907 - accuracy: 0.7557 - val_loss: 0.7012 - val_accuracy: 0.6159\n"
     ]
    },
    {
     "data": {
      "text/plain": [
       "<keras.callbacks.History at 0x237ba479790>"
      ]
     },
     "execution_count": 7,
     "metadata": {},
     "output_type": "execute_result"
    }
   ],
   "source": [
    "model.fit(train_data, train_labels, validation_split=0.2, epochs=5, batch_size=64)\n"
   ]
  },
  {
   "cell_type": "markdown",
   "id": "a0dd045d",
   "metadata": {},
   "source": [
    "# Evaluate the model on the test data"
   ]
  },
  {
   "cell_type": "code",
   "execution_count": 8,
   "id": "02a5cf16",
   "metadata": {},
   "outputs": [
    {
     "name": "stdout",
     "output_type": "stream",
     "text": [
      "77/77 [==============================] - 8s 102ms/step - loss: 0.4545 - accuracy: 0.7608\n",
      "Test score: 0.454525887966156\n",
      "Test accuracy: 0.7608382701873779\n"
     ]
    }
   ],
   "source": [
    "score, acc = model.evaluate(test_data, test_labels, batch_size=64)\n",
    "\n",
    "print('Test score:', score)\n",
    "print('Test accuracy:', acc)"
   ]
  },
  {
   "cell_type": "markdown",
   "id": "8716e467",
   "metadata": {},
   "source": [
    "# Save the model"
   ]
  },
  {
   "cell_type": "code",
   "execution_count": 9,
   "id": "d5e65616",
   "metadata": {},
   "outputs": [],
   "source": [
    "model.save(base_path+'rnn_test_00.h5')"
   ]
  },
  {
   "cell_type": "code",
   "execution_count": null,
   "id": "8a0e4f12",
   "metadata": {},
   "outputs": [],
   "source": []
  }
 ],
 "metadata": {
  "kernelspec": {
   "display_name": "Python 3 (ipykernel)",
   "language": "python",
   "name": "python3"
  },
  "language_info": {
   "codemirror_mode": {
    "name": "ipython",
    "version": 3
   },
   "file_extension": ".py",
   "mimetype": "text/x-python",
   "name": "python",
   "nbconvert_exporter": "python",
   "pygments_lexer": "ipython3",
   "version": "3.9.16"
  }
 },
 "nbformat": 4,
 "nbformat_minor": 5
}
